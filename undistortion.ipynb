{
  "nbformat": 4,
  "nbformat_minor": 0,
  "metadata": {
    "colab": {
      "name": "undistortion.ipynb",
      "provenance": [],
      "collapsed_sections": [],
      "machine_shape": "hm"
    },
    "kernelspec": {
      "name": "python3",
      "display_name": "Python 3"
    },
    "language_info": {
      "name": "python"
    },
    "accelerator": "GPU"
  },
  "cells": [
    {
      "cell_type": "code",
      "source": [
        "from google.colab import drive\n",
        "drive.mount('/content/drive')"
      ],
      "metadata": {
        "colab": {
          "base_uri": "https://localhost:8080/"
        },
        "id": "oJddar40HlAb",
        "outputId": "71bfe989-11da-478d-9268-d606995e2a8a"
      },
      "execution_count": null,
      "outputs": [
        {
          "output_type": "stream",
          "name": "stdout",
          "text": [
            "Mounted at /content/drive\n"
          ]
        }
      ]
    },
    {
      "cell_type": "code",
      "source": [
        "%cd /content/drive/MyDrive/Ali/undistorted_sfxs/val/database"
      ],
      "metadata": {
        "colab": {
          "base_uri": "https://localhost:8080/"
        },
        "id": "AHRj3VuoHpcP",
        "outputId": "96b8f4b3-01ee-46e6-faae-ae758bbaf84d"
      },
      "execution_count": null,
      "outputs": [
        {
          "output_type": "stream",
          "name": "stdout",
          "text": [
            "/content/drive/MyDrive/Ali/undistorted_sfxs/val/database\n"
          ]
        }
      ]
    },
    {
      "cell_type": "code",
      "source": [
        "import os\n",
        "from glob import glob\n",
        "import torch\n",
        "import torchvision\n",
        "from PIL import Image\n",
        "import torch.nn.functional as F\n",
        "\n",
        "dataset_folders = [\n",
        "#  '/content/drive/MyDrive/tokyo-night/test/database',\n",
        " '/content/drive/MyDrive/tokyo-xs/tokyo_xs/test/database',\n",
        "#  '/content/drive/MyDrive/sf-xs-1/small/train/37.81',\n",
        "#  '/content/drive/MyDrive/sf-xs-1/small/train/37.79',\n",
        "#  '/content/drive/MyDrive/sf-xs-1/small/train/37.78',\n",
        "#  '/content/drive/MyDrive/sf-xs-1/small/train/37.77',\n",
        "#  '/content/drive/MyDrive/sf-xs-1/small/train/37.76',\n",
        "#  '/content/drive/MyDrive/sf-xs-1/small/train/37.75',\n",
        "#  '/content/drive/MyDrive/sf-xs-1/small/train/37.74',\n",
        "#  '/content/drive/MyDrive/sf-xs-1/small/train/37.73',\n",
        "#  '/content/drive/MyDrive/sf-xs-1/small/train/37.72',\n",
        "#  '/content/drive/MyDrive/sf-xs-1/small/train/37.71',\n",
        "#  '/content/drive/MyDrive/sf-xs-1/small/train/37.70'\n",
        " ]\n",
        "\n",
        "to_save_paths = [\n",
        "# '/content/drive/MyDrive/Ali/undistorted_tokyo_night/test/database',\n",
        "'/content/drive/MyDrive/Ali/undistorted_tokyo_xs/test/database',\n",
        "# '/content/drive/MyDrive/Ali/undistorted_sfxs/train/37.81',\n",
        "# '/content/drive/MyDrive/Ali/undistorted_sfxs/train/37.79',\n",
        "# '/content/drive/MyDrive/Ali/undistorted_sfxs/train/37.78',\n",
        "# '/content/drive/MyDrive/Ali/undistorted_sfxs/train/37.77',\n",
        "# '/content/drive/MyDrive/Ali/undistorted_sfxs/train/37.76',\n",
        "# '/content/drive/MyDrive/Ali/undistorted_sfxs/train/37.75',\n",
        "# '/content/drive/MyDrive/Ali/undistorted_sfxs/train/37.74',\n",
        "# '/content/drive/MyDrive/Ali/undistorted_sfxs/train/37.73',\n",
        "# '/content/drive/MyDrive/Ali/undistorted_sfxs/train/37.72',\n",
        "# '/content/drive/MyDrive/Ali/undistorted_sfxs/train/37.71',\n",
        "# '/content/drive/MyDrive/Ali/undistorted_sfxs/train/37.70'\n",
        "]\n",
        "\n",
        "for index, dataset_folder in enumerate(dataset_folders):\n",
        "  dataset_name = os.path.basename(dataset_folder)\n",
        "  images_paths = sorted(glob(f\"{dataset_folder}/**/*.jpg\", recursive=True))\n",
        "  splitted_images = [p.split(\"/\") for p in images_paths]\n",
        "  images_names = [m[8] for m in splitted_images]\n",
        "\n",
        "  for image_name in images_names:\n",
        "    img = Image.open(f\"{dataset_folder}/{image_name}\")\n",
        "    # Convert PIL image to torch.tensor\n",
        "    # tensor = torchvision.transforms.ToTensor()(img)\n",
        "    resizedImage = torchvision.transforms.Resize([512, 512])(img)\n",
        "    tensor = torchvision.transforms.ToTensor()(resizedImage)\n",
        "    assert tensor.shape == torch.Size([3, 512, 512])\n",
        "    # The tensor has shape [3, 512, 512], we need to add a dimension at the beginning\n",
        "    tensor = tensor.reshape(1, 3, 512, 512)\n",
        "\n",
        "    # Some cool functions to undistort your image\n",
        "    undistortion_tensor = torch.load(\"/content/drive/MyDrive/Ali/grid.torch\")\n",
        "    tensor = F.grid_sample(tensor, undistortion_tensor)\n",
        "\n",
        "    # Remove the extra dimension\n",
        "    tensor = tensor.reshape(3, 512, 512)\n",
        "    # Convert back to PIL image, so we can visualize it\n",
        "    img = torchvision.transforms.ToPILImage()(tensor)\n",
        "    img.save(f\"{to_save_paths[index]}/{image_name}\")\n",
        "    \n",
        "  print(f'Folder {to_save_paths[index]} completed')"
      ],
      "metadata": {
        "id": "n28pdPIh_Yr2",
        "colab": {
          "base_uri": "https://localhost:8080/"
        },
        "outputId": "6d297d12-f58e-4cdb-8dd6-2e7ae1b04b7d"
      },
      "execution_count": null,
      "outputs": [
        {
          "output_type": "stream",
          "name": "stdout",
          "text": [
            "Folder /content/drive/MyDrive/Ali/undistorted_tokyo_xs/test/database completed\n"
          ]
        }
      ]
    },
    {
      "cell_type": "code",
      "source": [
        "!pip install -r /content/drive/MyDrive/Github/CosPlace/requirements.txt"
      ],
      "metadata": {
        "id": "VxSVOfoFFcWw"
      },
      "execution_count": null,
      "outputs": []
    },
    {
      "cell_type": "code",
      "source": [
        "python3 eval.py --dataset_folder /content/drive/MyDrive/Ali/undistorted_tokyo_xs --backbone resnet18 --fc_output_dim 512 --resume_model /content/drive/MyDrive/Github/CosPlace/logs/default/2022-08-21_06-52-24/best_model.pth"
      ],
      "metadata": {
        "id": "jMcC0XGpBsoq"
      },
      "execution_count": null,
      "outputs": []
    },
    {
      "cell_type": "code",
      "source": [
        "python3 eval.py --dataset_folder /content/drive/MyDrive/sf-xs-1/small --backbone resnet18 --fc_output_dim 512 --resume_model /content/drive/MyDrive/Github/CosPlace/logs/default/2022-05-31_08-23-14/best_model.pth --reranking_minimum_distance 10"
      ],
      "metadata": {
        "id": "kJ7QRQGBedop"
      },
      "execution_count": null,
      "outputs": []
    },
    {
      "cell_type": "code",
      "source": [
        "python3 eval.py --dataset_folder /content/drive/MyDrive/tokyo-xs/tokyo_xs --backbone resnet18 --fc_output_dim 512 --resume_model /content/drive/MyDrive/Github/CosPlace/logs/default/2022-05-31_08-23-14/best_model.pth --reranking_minimum_distance 5"
      ],
      "metadata": {
        "id": "lYNyP7HFH5pG"
      },
      "execution_count": null,
      "outputs": []
    }
  ]
}